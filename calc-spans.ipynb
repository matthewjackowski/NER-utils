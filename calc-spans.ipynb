{
 "cells": [
  {
   "cell_type": "code",
   "execution_count": 16,
   "metadata": {},
   "outputs": [],
   "source": [
    "import sys, codecs\n",
    "output_file = codecs.open(\"33_EN_NER-formatted.tsv\", 'w', 'utf-8')\n",
    "input_file  = codecs.open(\"33_English_05_07_2021.json\", 'r', 'utf-8')\n",
    "import json\n",
    "\n",
    "print (\"String (Title or Query)\",\"\\t\",\"Token\",\"\\t\",\"Tag\",\"\\t\",\"Span Token\",\"\\t\",\"Span Tag\",file = output_file)\n",
    "with input_file as f:\n",
    "    jsondata = json.load(f)\n",
    "for each_segment in jsondata:\n",
    "    full_segment = each_segment['text']\n",
    "    seg_tokens = each_segment['tokens']\n",
    "    seg_tags = each_segment['tags']\n",
    "    \n",
    "    spans = []\n",
    "    span_tag_index = None\n",
    "    previous_span_tag_index = None\n",
    "    for token in seg_tokens:\n",
    "        for idx, tag in enumerate(seg_tags):\n",
    "            if (token['start'] >= tag['start']) and (token['end'] <= tag['end']):\n",
    "                if token['start']>tag['start']:\n",
    "                    formattag = \"BLANK\"\n",
    "                else:\n",
    "                    formattag = token['tag']\n",
    "                span_tag_index = idx\n",
    "                span_tag_text = tag['text']\n",
    "                span_tag_label = tag['label']\n",
    "                print (full_segment,\"\\t\",token['text'],\"\\t\",token['tag'],\"\\t\",token['text'],\"\\t\",formattag,file = output_file)\n",
    "        if previous_span_tag_index is None:\n",
    "            if span_tag_index is not None:\n",
    "                #First tag found for token init span\n",
    "                span = {}\n",
    "                span['tokens'] = []\n",
    "                span['tokens'].append(token['tokenIndex'])\n",
    "                span['label'] = span_tag_label\n",
    "                span['text'] = span_tag_text\n",
    "        else:\n",
    "            if previous_span_tag_index == span_tag_index:\n",
    "                #Continued span, log token\n",
    "                span['tokens'].append(token['tokenIndex'])\n",
    "            else:\n",
    "                #New tag append current and start new span\n",
    "                spans.append(span)\n",
    "                span ={}\n",
    "                span['tokens']=[]\n",
    "                span['tokens'].append(token['tokenIndex'])\n",
    "                span['label'] = span_tag_label\n",
    "                span['text'] = span_tag_text\n",
    "        previous_span_tag_index = span_tag_index\n",
    "\n",
    "    spans.append(span)\n",
    "output_file.close()\n",
    "input_file.close()\n",
    "\n"
   ]
  },
  {
   "cell_type": "code",
   "execution_count": null,
   "metadata": {},
   "outputs": [],
   "source": []
  }
 ],
 "metadata": {
  "interpreter": {
   "hash": "2db524e06e9f5f4ffedc911c917cb75e12dbc923643829bf417064a77eb14d37"
  },
  "kernelspec": {
   "display_name": "Python 3",
   "language": "python",
   "name": "python3"
  },
  "language_info": {
   "codemirror_mode": {
    "name": "ipython",
    "version": 3
   },
   "file_extension": ".py",
   "mimetype": "text/x-python",
   "name": "python",
   "nbconvert_exporter": "python",
   "pygments_lexer": "ipython3",
   "version": "3.7.3"
  }
 },
 "nbformat": 4,
 "nbformat_minor": 2
}
